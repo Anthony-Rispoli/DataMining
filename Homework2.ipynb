{
  "nbformat": 4,
  "nbformat_minor": 0,
  "metadata": {
    "colab": {
      "provenance": [],
      "toc_visible": true,
      "authorship_tag": "ABX9TyMD2+sSZXZezRo0CdYMgpvb",
      "include_colab_link": true
    },
    "kernelspec": {
      "name": "python3",
      "display_name": "Python 3"
    },
    "language_info": {
      "name": "python"
    }
  },
  "cells": [
    {
      "cell_type": "markdown",
      "metadata": {
        "id": "view-in-github",
        "colab_type": "text"
      },
      "source": [
        "<a href=\"https://colab.research.google.com/github/Anthony-Rispoli/DataMining/blob/main/Homework2.ipynb\" target=\"_parent\"><img src=\"https://colab.research.google.com/assets/colab-badge.svg\" alt=\"Open In Colab\"/></a>"
      ]
    },
    {
      "cell_type": "code",
      "execution_count": 2,
      "metadata": {
        "id": "mIdltr815oyV"
      },
      "outputs": [],
      "source": [
        "import numpy as np\n",
        "import pandas as pd\n",
        "import seaborn as sn"
      ]
    },
    {
      "cell_type": "markdown",
      "source": [
        "Perform data exploration on the Kaggle Maryland Traffic Violations dataset.\n",
        "Answer the following questions:\n",
        "1. Which colors of vehicles are more likely to get involved in a traffic violation?\n",
        "2. Which models of vehicles are more likely to get involved in a traffic violation?"
      ],
      "metadata": {
        "id": "xV-83MqlVcgt"
      }
    },
    {
      "cell_type": "code",
      "source": [
        "#reads the traffic violations data set \n",
        "violations = pd.read_csv('/content/Traffic_Violations.csv')"
      ],
      "metadata": {
        "colab": {
          "base_uri": "https://localhost:8080/"
        },
        "id": "V3gGZe3tCos3",
        "outputId": "782eb85b-ef51-461e-8101-a30c2c1ac8c4"
      },
      "execution_count": 5,
      "outputs": [
        {
          "output_type": "stream",
          "name": "stderr",
          "text": [
            "/usr/local/lib/python3.7/dist-packages/IPython/core/interactiveshell.py:3326: DtypeWarning: Columns (26) have mixed types.Specify dtype option on import or set low_memory=False.\n",
            "  exec(code_obj, self.user_global_ns, self.user_ns)\n"
          ]
        }
      ]
    },
    {
      "cell_type": "code",
      "source": [
        "#shows all rows in traffic violations data set and columns\n",
        "violations.shape"
      ],
      "metadata": {
        "colab": {
          "base_uri": "https://localhost:8080/"
        },
        "id": "qq-4Ea3lRRkU",
        "outputId": "eb82719f-a44d-4ce5-d2b9-cab5f2037377"
      },
      "execution_count": 6,
      "outputs": [
        {
          "output_type": "execute_result",
          "data": {
            "text/plain": [
              "(1292399, 35)"
            ]
          },
          "metadata": {},
          "execution_count": 6
        }
      ]
    },
    {
      "cell_type": "code",
      "source": [
        "#drops the data rows that contain missing values\n",
        "clean_violations = violations.dropna()\n",
        "#ensures there was a loss of rows and no columns\n",
        "clean_violations.shape\n",
        "#displays all the attributes being measured\n",
        "clean_violations.info()"
      ],
      "metadata": {
        "colab": {
          "base_uri": "https://localhost:8080/"
        },
        "id": "oCjg1Ju6badL",
        "outputId": "fef41ff5-2617-4cb2-a500-ea657b5ba277"
      },
      "execution_count": 7,
      "outputs": [
        {
          "output_type": "stream",
          "name": "stdout",
          "text": [
            "<class 'pandas.core.frame.DataFrame'>\n",
            "Int64Index: 1120327 entries, 1 to 1291740\n",
            "Data columns (total 35 columns):\n",
            " #   Column                   Non-Null Count    Dtype  \n",
            "---  ------                   --------------    -----  \n",
            " 0   Date Of Stop             1120327 non-null  object \n",
            " 1   Time Of Stop             1120327 non-null  object \n",
            " 2   Agency                   1120327 non-null  object \n",
            " 3   SubAgency                1120327 non-null  object \n",
            " 4   Description              1120327 non-null  object \n",
            " 5   Location                 1120327 non-null  object \n",
            " 6   Latitude                 1120327 non-null  float64\n",
            " 7   Longitude                1120327 non-null  float64\n",
            " 8   Accident                 1120327 non-null  object \n",
            " 9   Belts                    1120327 non-null  object \n",
            " 10  Personal Injury          1120327 non-null  object \n",
            " 11  Property Damage          1120327 non-null  object \n",
            " 12  Fatal                    1120327 non-null  object \n",
            " 13  Commercial License       1120327 non-null  object \n",
            " 14  HAZMAT                   1120327 non-null  object \n",
            " 15  Commercial Vehicle       1120327 non-null  object \n",
            " 16  Alcohol                  1120327 non-null  object \n",
            " 17  Work Zone                1120327 non-null  object \n",
            " 18  State                    1120327 non-null  object \n",
            " 19  VehicleType              1120327 non-null  object \n",
            " 20  Year                     1120327 non-null  float64\n",
            " 21  Make                     1120327 non-null  object \n",
            " 22  Model                    1120327 non-null  object \n",
            " 23  Color                    1120327 non-null  object \n",
            " 24  Violation Type           1120327 non-null  object \n",
            " 25  Charge                   1120327 non-null  object \n",
            " 26  Article                  1120327 non-null  object \n",
            " 27  Contributed To Accident  1120327 non-null  object \n",
            " 28  Race                     1120327 non-null  object \n",
            " 29  Gender                   1120327 non-null  object \n",
            " 30  Driver City              1120327 non-null  object \n",
            " 31  Driver State             1120327 non-null  object \n",
            " 32  DL State                 1120327 non-null  object \n",
            " 33  Arrest Type              1120327 non-null  object \n",
            " 34  Geolocation              1120327 non-null  object \n",
            "dtypes: float64(3), object(32)\n",
            "memory usage: 307.7+ MB\n"
          ]
        }
      ]
    },
    {
      "cell_type": "code",
      "source": [
        "#plot 15 most frequent car models involved in violations in Montgomery County, Maryland\n",
        "clean_violations['Model'].value_counts()[:15].plot(kind = 'barh') "
      ],
      "metadata": {
        "colab": {
          "base_uri": "https://localhost:8080/",
          "height": 282
        },
        "id": "ZuoB38JyiELD",
        "outputId": "f2cc2a9f-3965-4ad9-8fb9-9c843f61b4a7"
      },
      "execution_count": 8,
      "outputs": [
        {
          "output_type": "execute_result",
          "data": {
            "text/plain": [
              "<matplotlib.axes._subplots.AxesSubplot at 0x7fd0077ef1d0>"
            ]
          },
          "metadata": {},
          "execution_count": 8
        },
        {
          "output_type": "display_data",
          "data": {
            "text/plain": [
              "<Figure size 432x288 with 1 Axes>"
            ],
            "image/png": "[encoded data removed]"
          },
          "metadata": {
            "needs_background": "light"
          }
        }
      ]
    },
    {
      "cell_type": "markdown",
      "source": [
        "***ANSWER TO # 1***\n",
        "According to the graph above, 4 door sedans are the most frequent modeled cars involved in traffic violations in Montgomery County, Maryland. This is a very generic model of car. If we choose to ignore the 2 most frequent model types, which are not real model types but generic descriptions, the ACCORD is the most frequent model car involved in traffic violations in this area."
      ],
      "metadata": {
        "id": "_NMvZTn8nxDU"
      }
    },
    {
      "cell_type": "code",
      "source": [
        "#plot 15 most frequent car colors involved in violations in Montgomery County, Maryland\n",
        "clean_violations['Color'].value_counts()[:15].plot(kind = 'barh')"
      ],
      "metadata": {
        "colab": {
          "base_uri": "https://localhost:8080/",
          "height": 282
        },
        "id": "Vvpf7X5smeKu",
        "outputId": "8dff7cfb-eeb4-46a5-a71a-a3879465ae2f"
      },
      "execution_count": 9,
      "outputs": [
        {
          "output_type": "execute_result",
          "data": {
            "text/plain": [
              "<matplotlib.axes._subplots.AxesSubplot at 0x7fd00b8b7850>"
            ]
          },
          "metadata": {},
          "execution_count": 9
        },
        {
          "output_type": "display_data",
          "data": {
            "text/plain": [
              "<Figure size 432x288 with 1 Axes>"
            ],
            "image/png": "[encoded data removed]"
          },
          "metadata": {
            "needs_background": "light"
          }
        }
      ]
    },
    {
      "cell_type": "markdown",
      "source": [
        "***ANSWER TO #2*** Accoring to the graph shown above, BLACK cars are the cars that are most frequently involved in traffic violations in this area.\n",
        "\n",
        "***ANYTHING BELOW THIS IS JUST FUN STUFF***"
      ],
      "metadata": {
        "id": "xGTRi3yZpk5d"
      }
    },
    {
      "cell_type": "code",
      "source": [
        "#plot 15 most frequent vehicle types involved in violations in Montgomery County, Maryland\n",
        "clean_violations['VehicleType'].value_counts()[:15].plot(kind = 'barh')"
      ],
      "metadata": {
        "colab": {
          "base_uri": "https://localhost:8080/",
          "height": 295
        },
        "id": "_l2NS8syNyz7",
        "outputId": "71afd34f-7503-41e9-b5d9-a7cfd0c163dc"
      },
      "execution_count": 12,
      "outputs": [
        {
          "output_type": "execute_result",
          "data": {
            "text/plain": [
              "<matplotlib.axes._subplots.AxesSubplot at 0x7fd003b8a190>"
            ]
          },
          "metadata": {},
          "execution_count": 12
        },
        {
          "output_type": "display_data",
          "data": {
            "text/plain": [
              "<Figure size 432x288 with 1 Axes>"
            ],
            "image/png": "[encoded data removed]"
          },
          "metadata": {
            "needs_background": "light"
          }
        }
      ]
    },
    {
      "cell_type": "markdown",
      "source": [
        "Unsurprisingly, Automobiles are number 1."
      ],
      "metadata": {
        "id": "z6GI6_JVcljr"
      }
    },
    {
      "cell_type": "code",
      "source": [
        "#plot frequences of difference Races involved in violations in Montgomery County, Maryland\n",
        "clean_violations['Race'].value_counts().plot(kind = 'barh')"
      ],
      "metadata": {
        "colab": {
          "base_uri": "https://localhost:8080/",
          "height": 282
        },
        "id": "pXnwVQ-9XiGj",
        "outputId": "742a4608-d3d7-4e7a-b92e-877aef747878"
      },
      "execution_count": 14,
      "outputs": [
        {
          "output_type": "execute_result",
          "data": {
            "text/plain": [
              "<matplotlib.axes._subplots.AxesSubplot at 0x7fd003b21a10>"
            ]
          },
          "metadata": {},
          "execution_count": 14
        },
        {
          "output_type": "display_data",
          "data": {
            "text/plain": [
              "<Figure size 432x288 with 1 Axes>"
            ],
            "image/png": "[encoded data removed]"
          },
          "metadata": {
            "needs_background": "light"
          }
        }
      ]
    }
  ]
}